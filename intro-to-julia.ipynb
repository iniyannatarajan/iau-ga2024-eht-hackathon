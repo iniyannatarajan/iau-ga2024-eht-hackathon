{
 "cells": [
  {
   "cell_type": "markdown",
   "id": "132345eb-b577-4572-9a38-d71b4c8f3724",
   "metadata": {},
   "source": [
    "# A short introduction to Julia (for running Comrade)\n",
    "\n",
    "[Julia](https://julialang.org/) is a performant language with great support for scientific computing. While python is easy to develop with, for performance critical tasks we still look to languages such as C. The most widely used numerical computing package in python, `Numpy`, uses C primarily for performing high speed numerical operations. Julia eliminates this two language problem and combines the ease of programming of a high level language with the performance of a low level language.\n",
    "\n",
    "This notebook aims to provide a quick introduction to some basic features of the Julia language that you would need to navigate and understand the [beginner level Comrade tutorials](https://ptiede.github.io/Comrade.jl/v0.10.4/tutorials/) without the specifics of the language getting in your way.\n",
    "\n",
    "If you are using Jupyter, you can choose a Julia kernel instead of a Python kernel to run this notebook. If you are using a terminal, type `julia`, get dropped into the Julia REPL (this is the equivalent of the IPython interpreter) and start typing away."
   ]
  },
  {
   "cell_type": "markdown",
   "id": "33f27e9a",
   "metadata": {},
   "source": [
    "## First and foremost – getting help\n",
    "\n",
    "Whenever you want to get a brief documentation on a Julia function, type its name preceded with a question mark:"
   ]
  },
  {
   "cell_type": "code",
   "execution_count": null,
   "id": "ea3e87cd",
   "metadata": {
    "scrolled": true
   },
   "outputs": [],
   "source": [
    "?sum"
   ]
  },
  {
   "cell_type": "markdown",
   "id": "d490f55d",
   "metadata": {},
   "source": [
    "\n",
    "## If you are coming from Python...\n",
    "\n",
    "### String handling\n",
    "\n",
    "Strings in Julia are denoted by double quotes. Single quotes are reserved for characters (which are different from strings, unlike Python). Multi-line strings are denoted by triple double quotes."
   ]
  },
  {
   "cell_type": "code",
   "execution_count": null,
   "id": "db933e7e-b736-46ed-9f90-2d396761dbfc",
   "metadata": {},
   "outputs": [],
   "source": [
    "s = \"this will not work with single quotes\"\n",
    "println(\"Type of s: $(typeof(s))\") # we use println() so that a line break is introduced after each print statement\n",
    "c = 'x'\n",
    "println(\"Type of c: $(typeof(c))\")"
   ]
  },
  {
   "cell_type": "markdown",
   "id": "6143b68a-0bf5-4673-be37-cc4562492f34",
   "metadata": {},
   "source": [
    "String concatenation is performed with the **\\*** operator instead of the **+** operator:"
   ]
  },
  {
   "cell_type": "code",
   "execution_count": null,
   "id": "273ed87a-6051-4690-bae8-69532b2edf13",
   "metadata": {},
   "outputs": [],
   "source": [
    "a = 5\n",
    "s = \"The value of a is \" * string(a) * \". Bye!\""
   ]
  },
  {
   "cell_type": "markdown",
   "id": "562644c1-c781-4d02-82b5-fe0d841d8e5f",
   "metadata": {},
   "source": [
    "Note that we have used the `string` function to convert a numerical value into a string. This function can be used with multiple arguments to concatenate strings:"
   ]
  },
  {
   "cell_type": "code",
   "execution_count": null,
   "id": "524bcdfc-309c-4b43-8f8a-18cfde1ff887",
   "metadata": {},
   "outputs": [],
   "source": [
    "a = 50\n",
    "b = 100\n",
    "\n",
    "string(\"a = \", a, \" and b = \", b)"
   ]
  },
  {
   "cell_type": "markdown",
   "id": "adc119f0-43f4-47dc-aa11-a1b1e47d65a7",
   "metadata": {},
   "source": [
    "You can also concatenate strings by using string interpolation as shown below:"
   ]
  },
  {
   "cell_type": "code",
   "execution_count": null,
   "id": "bc8fa84f-aa6d-48a7-8230-0c9e98661eeb",
   "metadata": {},
   "outputs": [],
   "source": [
    "a = 100\n",
    "println(\"The value of a is $(a)\")"
   ]
  },
  {
   "cell_type": "markdown",
   "id": "b06e672f-9c59-4d7b-ab56-700d23d4febd",
   "metadata": {},
   "source": [
    "More on strings in Julia [here](https://docs.julialang.org/en/v1/manual/strings/)."
   ]
  },
  {
   "cell_type": "markdown",
   "id": "edebf3bb-63db-466c-9bcf-d383a416a2da",
   "metadata": {},
   "source": [
    "### Indexing\n",
    "\n",
    "Julia uses 1-based indexing instead of 0-based indexing. The first element of an array (or a `Vector`) begins at index 1. Good luck not making **this** mistake if you are coming from Python!\n",
    "\n",
    "We will use a string to illustrate this since you can index into strings as you would into any vector."
   ]
  },
  {
   "cell_type": "code",
   "execution_count": null,
   "id": "0e2dcb25-74a5-483a-9a75-4b54f9224427",
   "metadata": {},
   "outputs": [],
   "source": [
    "s = \"Try accessing s[0] and see what happens!\"\n",
    "println(s[1])\n",
    "\n",
    "# accessing elements using begin and end\n",
    "println(s[begin], s[begin+1], s[end], s[end-7])\n",
    "\n",
    "# accessing elements using first() and last()\n",
    "println(first(s), last(s))"
   ]
  },
  {
   "cell_type": "markdown",
   "id": "bc19f12e-a928-4406-a852-84433efe8e89",
   "metadata": {},
   "source": [
    "Also, note that slicing in Julia does not exclude the last element."
   ]
  },
  {
   "cell_type": "code",
   "execution_count": null,
   "id": "81875ac4-ee19-4811-a6f9-9f5021998346",
   "metadata": {},
   "outputs": [],
   "source": [
    "s = \"The following would exclude the last character in Python but not in Julia\"\n",
    "println(s[begin:end])\n",
    "println(s[1:3]) # will print the full word \"The\""
   ]
  },
  {
   "cell_type": "markdown",
   "id": "3f5372de-bc91-4a7a-a586-91ac59d1af91",
   "metadata": {},
   "source": [
    "### Broadcasting\n",
    "\n",
    "A brief note about broadcasting. Unlike with numpy arrays in python, broadcasting (applying an operator or a function element-by-element to a collection of elements) needs to be specified explicitly in Julia using the **.** operator: "
   ]
  },
  {
   "cell_type": "code",
   "execution_count": null,
   "id": "83e977c7-14e3-4144-acdf-b992784447c3",
   "metadata": {},
   "outputs": [],
   "source": [
    "# [1 2 3] + 1 # throws error\n",
    "[1 2 3] .+ 1 # works fine"
   ]
  },
  {
   "cell_type": "markdown",
   "id": "0587a6c2-5146-49e5-9965-df5a717265d0",
   "metadata": {},
   "source": [
    "Functions can also be broadcast by adding a dot to the function name. A function called `test()` that operates on one input value can be called as `test.()` when a vector of values are input to it.\n",
    "\n",
    "More on broadcasting [here](https://docs.julialang.org/en/v1/manual/arrays/#Broadcasting)."
   ]
  },
  {
   "cell_type": "markdown",
   "id": "b275561d-3562-45a9-a11c-0e30ead56ca6",
   "metadata": {},
   "source": [
    "### Code indentation\n",
    "\n",
    "Code indentation does not matter in Julia. Instead conditional statements, loops, and function definitions are terminated by the `end` keyword. For example:"
   ]
  },
  {
   "cell_type": "code",
   "execution_count": null,
   "id": "84cb84dc-36f2-4a4c-8311-400ed49c5985",
   "metadata": {},
   "outputs": [],
   "source": [
    "for i in 1:5\n",
    "j = i+1\n",
    "                 println(i*j)\n",
    "end"
   ]
  },
  {
   "cell_type": "markdown",
   "id": "a7af1faf-e54d-4eca-9d1b-1026efa26738",
   "metadata": {},
   "source": [
    "### Column-major array ordering _(feel free to skip)_\n",
    "\n",
    "Perhaps the most important performance implication that beginners need to keep in mind is that Julia follows column-major array ordering when storing multi-dimensional arrays in memory. Julia stores the elements of each column in contiguous memory locations while languages such as Python and C store the elements of a row in contiguous memory locations. \n",
    "\n",
    "Many common data operations (columns/vectors that constitute a matrix or dataframes in which each column corresponds to a specific quantity) are performed on columns of data. Computers are faster at accessing memory locations that are contiguous. Since Julia stores values column-by-column, mathematical operations on data naturally tend to be much faster in Julia.\n",
    "\n",
    "Let us verify this by declaring a matrix in Julia and flattening it using `vec`:"
   ]
  },
  {
   "cell_type": "code",
   "execution_count": null,
   "id": "5f13fbca-4659-4de8-969b-4e3913e7a5e7",
   "metadata": {},
   "outputs": [],
   "source": [
    "A = [1 2 3; 4 5 6] # declares a matrix\n",
    "println(\"A = $A\")\n",
    "println(\"Type: $(typeof(A))\")\n",
    "println(\"Size: $(size(A))\")\n",
    "\n",
    "# Now flatten it\n",
    "vecA = vec(A)\n",
    "println(\"vecA = $(vecA)\")\n",
    "println(\"Type: $(typeof(vecA))\")\n",
    "println(\"Size: $(size(vecA))\")"
   ]
  },
  {
   "cell_type": "markdown",
   "id": "07a4c55b-fbdc-4755-aeb2-8f76da6a97eb",
   "metadata": {},
   "source": [
    "The above is equivalent to writing `np.ravel(A, order='F')` in python where 'F' stands for _Fortran style ordering_ which is column-major. Remember that while `np.ravel` returns the flattened array column-by-column, the array is still stored in memory row-major and thus has performance implications."
   ]
  },
  {
   "cell_type": "markdown",
   "id": "694aff9c-21fe-4174-ac73-f6b0a958ef70",
   "metadata": {},
   "source": [
    "### Types and typing\n",
    "\n",
    "Typing is optional in Julia. If no type is specified for expressions or variables, Julia infers the type based on how the value is used in the rest of the code. Optional typing applies to function arguments too.\n",
    "\n",
    "Types can be specified by the **::** operator."
   ]
  },
  {
   "cell_type": "code",
   "execution_count": null,
   "id": "e67272a3-12e0-440a-9fe1-37ca9c98ec01",
   "metadata": {},
   "outputs": [],
   "source": [
    "a::Int = 5\n",
    "b::Float64 = 7.8"
   ]
  },
  {
   "cell_type": "markdown",
   "id": "db80ca68-9a21-4967-a6db-dd77b90d6e4d",
   "metadata": {},
   "source": [
    "_Composite_ types are declared in Julia with the `struct` keyword. The `struct` keyword allows us to create custom types with named fields. In langauges like python, such composite types with values and functions associated with them are called objects. While all types are _objects_ in Julia, they do not have methods associated with them, since Julia uses _multiple dispatch_ instead of object-orientation (more on this when we study methods).\n",
    "\n",
    "Let us create a composite type and instantiate it."
   ]
  },
  {
   "cell_type": "code",
   "execution_count": null,
   "id": "5400a50f-643b-40c3-8fb9-a50bbb961418",
   "metadata": {},
   "outputs": [],
   "source": [
    "struct Person\n",
    "    name::String\n",
    "    score::Float64\n",
    "end\n",
    "\n",
    "p1 = Person(\"Kagiso\", 95.4)\n",
    "\n",
    "println(typeof(p1))\n",
    "println(\"$(p1.name) scored $(p1.score) out of 100\")"
   ]
  },
  {
   "cell_type": "markdown",
   "id": "a194e601-0a33-46f9-a5a0-5c20ed75b702",
   "metadata": {},
   "source": [
    "### Loops are not bad!\n",
    "\n",
    "Python is an interpreted language (which is why your scripts normally run until certain kinds of errors are encountered) while Julia uses just-in-time (JIT) compilation. The compiler optimises constructs such as loops for efficient execution. So use loops wherever you want if you are comfortable with them. It's not bad practice in Julia.\n",
    "\n",
    "### Unicode characters\n",
    "\n",
    "variable and function names can contain unicode characters. You will come across this a lot in Comrade tutorials. Unicode characters can be written in Julia by first typing the LaTeX name for the character and pressing the `Tab` key. So to type the Greek letter theta, you would type `\\theta` and press `Tab`."
   ]
  },
  {
   "cell_type": "code",
   "execution_count": null,
   "id": "fad82dd0-3b80-4604-8bec-f449e5410c8f",
   "metadata": {},
   "outputs": [],
   "source": [
    "θ = 45.0\n",
    "println(θ)"
   ]
  },
  {
   "cell_type": "markdown",
   "id": "e5860564-c158-46b8-b7ec-0add691b77c2",
   "metadata": {},
   "source": [
    "## Importing modules\n",
    "\n",
    "In Julia, the most common way to \"import\" a module is with the `using` keyword. For example,"
   ]
  },
  {
   "cell_type": "code",
   "execution_count": null,
   "id": "3671142f-ffd7-454f-b06f-7332c414d712",
   "metadata": {},
   "outputs": [],
   "source": [
    "using Statistics"
   ]
  },
  {
   "cell_type": "markdown",
   "id": "813e7546-87ba-4bf9-9ec0-da590add0951",
   "metadata": {},
   "source": [
    "imports the `Statistics` module which is part of the Julia standard library (and hence can be imported without installing additional packages). If we try to import a Julia module that has not been installed in your environment, it will complain.\n",
    "\n",
    "Unlike the `import` keyword, `using` brings the elements (those that were exported using the `export` keyword in the source code of the module) of a module into global scope. As a result, they can be accessed without the module name preceding them. For example, the function to compute standard deviation can be invoked as `std` instead of as `Statistics.std`.\n",
    "\n",
    "This is common practice in Julia and you will find that wherever there is no possibility of confusion, imported elements of modules are accessible without having to be qualified with the module name. You can still use the convention `Statistics.std` if you are coming from a Python background until you are used to the differences between `using` and `import`. More on this [here](https://docs.julialang.org/en/v1/manual/modules/#Standalone-using-and-import)."
   ]
  },
  {
   "cell_type": "markdown",
   "id": "3234491f-794d-45dd-a7f9-3f90235f6832",
   "metadata": {},
   "source": [
    "## Some useful data structures\n",
    "\n",
    "We have already encountered strings and vectors. Julia also has tuples, dicts, ranges, and arrays to mention a few common types.\n",
    "\n",
    "### Tuples\n",
    "\n",
    "Tuples are immutable fixed-length objects containing elements of potentially different data types."
   ]
  },
  {
   "cell_type": "code",
   "execution_count": null,
   "id": "6a982c4a-c540-4781-b54d-44025cb944f3",
   "metadata": {},
   "outputs": [],
   "source": [
    "t = (1, 5.6, [1 2 3], \"hello\")"
   ]
  },
  {
   "cell_type": "markdown",
   "id": "f1f8b902-a923-4d41-9f1c-d574eacfd147",
   "metadata": {},
   "source": [
    "The elements of a tuple can be accessed by indexing into the tuple or by \"unpacking\" the values and assigning them to multiple variables:"
   ]
  },
  {
   "cell_type": "code",
   "execution_count": null,
   "id": "66e0f111-ff82-48eb-99c1-7ff6eba09d97",
   "metadata": {},
   "outputs": [],
   "source": [
    "a,b,c,d = t\n",
    "println(d)\n",
    "println(c)"
   ]
  },
  {
   "cell_type": "markdown",
   "id": "2ad16771-d93b-4000-9468-93a7187905e0",
   "metadata": {},
   "source": [
    "Julia also has named tuples. A named tuple allows the values of a tuple to be accessed using the **.** operator."
   ]
  },
  {
   "cell_type": "code",
   "execution_count": null,
   "id": "ce935e1e-d14a-4696-87a6-c2d7e696c57c",
   "metadata": {},
   "outputs": [],
   "source": [
    "nt = (id=1, val=5.6, list=[1 2 3], greeting=\"hello\")\n",
    "println(nt.val)\n",
    "println(nt.greeting)"
   ]
  },
  {
   "cell_type": "markdown",
   "id": "032e08ed-b358-4641-86c1-301287066c83",
   "metadata": {},
   "source": [
    "### Dictionaries\n",
    "\n",
    "Dictionaries that map keys to values exist in Julia too. There are two ways to construct a Dict in Julia:\n",
    "\n",
    "1) By passing a vector of tuples containing key-value pairs or\n",
    "2) Using `Pair` objects"
   ]
  },
  {
   "cell_type": "code",
   "execution_count": null,
   "id": "8b652e80-c1b5-481b-856a-e900a69e69a7",
   "metadata": {},
   "outputs": [],
   "source": [
    "# first method\n",
    "d1 = Dict([(1, \"M87\"), (2, \"Sgr A*\")])\n",
    "println(d1)\n",
    "\n",
    "# second method\n",
    "d2 = Dict(1=>\"M87\", 2=>\"Sgr A*\") # 1=>\"hi\" is a Pair\n",
    "println(d2)"
   ]
  },
  {
   "cell_type": "markdown",
   "id": "ec413f11-6a63-424e-9846-b384baa7940f",
   "metadata": {},
   "source": [
    "### Symbols\n",
    "\n",
    "[Symbols in Julia](https://docs.julialang.org/en/v1/manual/metaprogramming/#Symbols) behave very much like strings (they are \"interned strings\" that speed up certain tasks requiring string manipulation). They are declared by preceding the string with **:** operator. You will encounter them a lot when using plotting modules such as `Plots` or `Makie` where symbols are used to denote names of colours, line styles etc."
   ]
  },
  {
   "cell_type": "code",
   "execution_count": null,
   "id": "7b59a74f-b277-4bd7-b509-fdcb7d38baca",
   "metadata": {},
   "outputs": [],
   "source": [
    "s1 = \"this is a string\"\n",
    "println(typeof(s1))\n",
    "\n",
    "s2 = :this_is_a_symbol\n",
    "println(typeof(s2))"
   ]
  },
  {
   "cell_type": "markdown",
   "id": "63c30b50-42f0-4311-bb62-b8e090b00d59",
   "metadata": {},
   "source": [
    "### Arrays\n",
    "\n",
    "The Julia documentation has an [excellent section](https://docs.julialang.org/en/v1/manual/arrays/) on arrays. Here we just provide a brief introduction to them.\n",
    "\n",
    "Arrays can be created in multiple ways. We have already seen how to assign values manually to an array/vector or a matrix."
   ]
  },
  {
   "cell_type": "code",
   "execution_count": null,
   "id": "db91a3e6-95d8-4486-a54a-f0c8ecdab9cd",
   "metadata": {},
   "outputs": [],
   "source": [
    "A = [1 2 3; 4 5 6; 7 8 9]\n",
    "\n",
    "println(A[1,2])"
   ]
  },
  {
   "cell_type": "markdown",
   "id": "bee306c0-112c-4b74-8d67-c96504c811e2",
   "metadata": {},
   "source": [
    "Remember that the indexing starts from 1. Another simple way to create an array would be to create a `UnitRange` object and `collect` its values as a vector."
   ]
  },
  {
   "cell_type": "code",
   "execution_count": null,
   "id": "08cbfc4f-50b2-4721-9d6f-a98b76e7c862",
   "metadata": {},
   "outputs": [],
   "source": [
    "collect(1:2:10)"
   ]
  },
  {
   "cell_type": "markdown",
   "id": "0e7f5880-51e1-45ee-a638-db60fddb3758",
   "metadata": {},
   "source": [
    "An array of zeros can be created with the `zeros` function. Similar array construction functions such as `ones`, `trues`, `falses` and [more](https://docs.julialang.org/en/v1/manual/arrays/#Construction-and-Initialization) are available."
   ]
  },
  {
   "cell_type": "code",
   "execution_count": null,
   "id": "805128dd-e886-4447-a499-b2d8c5abaaed",
   "metadata": {},
   "outputs": [],
   "source": [
    "zeros(Int16, (5,3))"
   ]
  },
  {
   "cell_type": "markdown",
   "id": "4e095e1a-1b40-4a52-b57c-7e400249dfa9",
   "metadata": {},
   "source": [
    "## Functions\n",
    "\n",
    "A function maps a tuple of arguments to a return value, or failing that, throws an exception. The syntax for defining a function is as follows: \n",
    "\n",
    "Functions that return multiple values return them as one tuple...\n",
    "\n",
    "Funciton names ending with a bang!"
   ]
  },
  {
   "cell_type": "code",
   "execution_count": null,
   "id": "4c4e5129-4586-425f-a796-f301793ee568",
   "metadata": {},
   "outputs": [],
   "source": [
    "# a simple function definition\n",
    "function f(x, y)\n",
    "    return x+y\n",
    "end\n",
    "println(f(5, 6))\n",
    "\n",
    "# a common shortcut to define functions\n",
    "g(x, y, z) = x+y+z\n",
    "println(g(12, 12, 5))"
   ]
  },
  {
   "cell_type": "markdown",
   "id": "746f9266-4eee-40d3-adce-2a9ef5a41200",
   "metadata": {},
   "source": [
    "Input types can be specified using the **::** operator after every variable name and output types by appending them to the end:"
   ]
  },
  {
   "cell_type": "code",
   "execution_count": null,
   "id": "2f59cfaf-96e9-4132-a223-0618d7d2eea9",
   "metadata": {},
   "outputs": [],
   "source": [
    "# a function that takes only floats as arguments\n",
    "function add(x::Float64, y::Float64)::Int\n",
    "    return trunc(Int, x+y)\n",
    "end\n",
    "println(add(5.,7.8)) # try passing an integer and see what happens!"
   ]
  },
  {
   "cell_type": "markdown",
   "id": "62b14d0e-c99e-4123-a1ad-153b18a8614e",
   "metadata": {},
   "source": [
    "The above (contrived!) function takes only `Float64` types as arguments but returns `Int`, which is accomplished using the `trunc` function.\n",
    "\n",
    "A _method_ is a definition of one possible behaviour of a function. If you are familiar with object-oriented programming in python, you will remember that python allows the user to define _classes_. An instantiation of the class has specific values associated with its _instance attributes_ while the _class attributes_ are common to all instances of a class. _Instance methods_ are methods that can be called only on instances of that class. Classes can inherit from other classes which can override instance methods and different classes may have instance methods with the same name. This confusion is resolved by looking at the first argument of a method which denotes the class to which an object (instance) belongs. You will recognize this as the `self` argument in python.\n",
    "\n",
    "Can this behaviour be made more general? Envision a scenario in which the method that gets invoked is determined by looking not only at the first argument passed to a function, but _all_ of them. This is called **_multiple dispatch_** and is what Julia does. Instead of defining classes with associated attributes and methods, you can create composite data types (a `struct`) and write methods with different _signatures_ (number and type of arguments passed) to accomplish the same and even more. More on this can be found in [this entertaining talk](https://www.youtube.com/watch?v=kc9HwsxE1OY)."
   ]
  },
  {
   "cell_type": "code",
   "execution_count": null,
   "id": "5a332bb1-266a-45a8-a9d7-11410d917da6",
   "metadata": {},
   "outputs": [],
   "source": [
    "# function to add two integers\n",
    "function add(x, y)\n",
    "    return x+y\n",
    "end\n",
    "\n",
    "# function to add two strings\n",
    "function add(x::String, y::String)::String\n",
    "return x*y\n",
    "end\n",
    "\n",
    "# test them\n",
    "println(add(5, 7))\n",
    "println(add(\"Welcome to \", \"Julia programming!\"))"
   ]
  }
 ],
 "metadata": {
  "kernelspec": {
   "display_name": "Julia 1.10.4",
   "language": "julia",
   "name": "julia-1.10"
  },
  "language_info": {
   "file_extension": ".jl",
   "mimetype": "application/julia",
   "name": "julia",
   "version": "1.10.4"
  }
 },
 "nbformat": 4,
 "nbformat_minor": 5
}
